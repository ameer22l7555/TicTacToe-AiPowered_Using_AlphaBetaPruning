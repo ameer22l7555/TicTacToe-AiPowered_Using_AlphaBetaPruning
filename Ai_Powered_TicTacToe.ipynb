{
  "nbformat": 4,
  "nbformat_minor": 0,
  "metadata": {
    "colab": {
      "provenance": []
    },
    "kernelspec": {
      "name": "python3",
      "display_name": "Python 3"
    },
    "language_info": {
      "name": "python"
    }
  },
  "cells": [
    {
      "cell_type": "code",
      "source": [
        "import copy\n",
        "import math\n",
        "import random"
      ],
      "metadata": {
        "id": "gOUceTtyP-aH"
      },
      "execution_count": 69,
      "outputs": []
    },
    {
      "cell_type": "code",
      "source": [
        "X = 'X'\n",
        "O = 'O'\n",
        "EMPTY = None"
      ],
      "metadata": {
        "id": "fxKl8BBgP_2e"
      },
      "execution_count": 70,
      "outputs": []
    },
    {
      "cell_type": "code",
      "source": [
        "def initial_state():\n",
        "    return [[EMPTY, EMPTY, EMPTY],\n",
        "            [EMPTY, EMPTY, EMPTY],\n",
        "            [EMPTY, EMPTY, EMPTY]]"
      ],
      "metadata": {
        "id": "Ml5l1WrAQA3N"
      },
      "execution_count": 71,
      "outputs": []
    },
    {
      "cell_type": "code",
      "source": [
        "def player(board):\n",
        "    count = 0\n",
        "    for i in board:\n",
        "        for j in i:\n",
        "            if j:\n",
        "                count += 1\n",
        "    if count % 2 != 0:\n",
        "        return O\n",
        "    return X"
      ],
      "metadata": {
        "id": "4aYt-v47QB0F"
      },
      "execution_count": 72,
      "outputs": []
    },
    {
      "cell_type": "code",
      "source": [
        "def result(board, action):\n",
        "    curr_player = player(board)\n",
        "    result_board = copy.deepcopy(board)\n",
        "    (i, j) = action\n",
        "    result_board[i][j] = curr_player\n",
        "    return result_board"
      ],
      "metadata": {
        "id": "xkDEfBEdQDJH"
      },
      "execution_count": 73,
      "outputs": []
    },
    {
      "cell_type": "code",
      "source": [
        "def winner(board):\n",
        "    for i in range(3):\n",
        "        if board[i][0] == board[i][1] == board[i][2]:\n",
        "            return board[i][0]\n",
        "        if board[0][i] == board[1][i] == board[2][i]:\n",
        "            return board[0][i]\n",
        "\n",
        "    if board[0][0] == board[1][1] == board[2][2]:\n",
        "        return board[0][0]\n",
        "    if board[0][2] == board[1][1] == board[2][0]:\n",
        "        return board[0][2]\n",
        "\n",
        "    return None"
      ],
      "metadata": {
        "id": "22j-lwY6QEW-"
      },
      "execution_count": 74,
      "outputs": []
    },
    {
      "cell_type": "code",
      "source": [
        "def terminal(board):\n",
        "    if winner(board) != None:\n",
        "        return True\n",
        "    for i in board:\n",
        "        for j in i:\n",
        "            if j == EMPTY:\n",
        "                return False\n",
        "    return True"
      ],
      "metadata": {
        "id": "0u_Z-1KQQFZF"
      },
      "execution_count": 75,
      "outputs": []
    },
    {
      "cell_type": "code",
      "source": [
        "def utility(board):\n",
        "    winner_val = winner(board)\n",
        "    if winner_val == X:\n",
        "        return 1\n",
        "    elif winner_val == O:\n",
        "        return -1\n",
        "    return 0"
      ],
      "metadata": {
        "id": "30zXWXfUQGXm"
      },
      "execution_count": 76,
      "outputs": []
    },
    {
      "cell_type": "code",
      "source": [
        "def actions(board):\n",
        "    res = set()\n",
        "    board_len = len(board)\n",
        "    for i in range(board_len):\n",
        "        for j in range(board_len):\n",
        "            if board[i][j] == EMPTY:\n",
        "                res.add((i, j))\n",
        "    return res"
      ],
      "metadata": {
        "id": "yZ3gT4hzQHdV"
      },
      "execution_count": 77,
      "outputs": []
    },
    {
      "cell_type": "code",
      "source": [
        "def is_valid_action(board, coordinates):\n",
        "    x_corr, y_corr = coordinates\n",
        "    if 0 <= x_corr <= 2 and 0 <= y_corr <= 2:\n",
        "        if board[x_corr][y_corr] == EMPTY:\n",
        "            return True\n",
        "        return False\n",
        "    return False"
      ],
      "metadata": {
        "id": "it23Yny5QI31"
      },
      "execution_count": 78,
      "outputs": []
    },
    {
      "cell_type": "code",
      "source": [
        "def get_player_move(board):\n",
        "    while True:\n",
        "        try:\n",
        "            x = int(input(\"Enter the Row Value (1-3): \"))\n",
        "            y = int(input(\"Enter the Column Value (1-3): \"))\n",
        "            x = x - 1\n",
        "            y = y - 1\n",
        "            if is_valid_action(board, (x, y)):\n",
        "                return (x, y)\n",
        "            else:\n",
        "                print(\"Invalid move. Try again.\")\n",
        "        except ValueError:\n",
        "            print(\"Invalid input. Please enter a number between 1 and 3.\")"
      ],
      "metadata": {
        "id": "DkhUsmgaQJ_1"
      },
      "execution_count": 105,
      "outputs": []
    },
    {
      "cell_type": "code",
      "source": [
        "def max_value(board, alpha, beta):\n",
        "    if terminal(board):\n",
        "        return utility(board)\n",
        "    v = -math.inf\n",
        "    for action in actions(board):\n",
        "        v = max(v, min_value(result(board, action), alpha, beta))\n",
        "        if v >= beta:\n",
        "            return v\n",
        "        alpha = max(alpha, v)\n",
        "    return v"
      ],
      "metadata": {
        "id": "I8Ix2vWqQLDG"
      },
      "execution_count": 106,
      "outputs": []
    },
    {
      "cell_type": "code",
      "source": [
        "def min_value(board, alpha, beta):\n",
        "    if terminal(board):\n",
        "        return utility(board)\n",
        "    v = math.inf\n",
        "    for action in actions(board):\n",
        "        v = min(v, max_value(result(board, action), alpha, beta))\n",
        "        if v <= alpha:\n",
        "            return v\n",
        "        beta = min(beta, v)\n",
        "    return v"
      ],
      "metadata": {
        "id": "HYX2vEEsQMIF"
      },
      "execution_count": 107,
      "outputs": []
    },
    {
      "cell_type": "code",
      "source": [
        "def alpha_beta_search(board):\n",
        "    current_player = player(board)\n",
        "    if current_player == X:\n",
        "        best_score = -math.inf\n",
        "        best_action = None\n",
        "        for action in actions(board):\n",
        "            score = min_value(result(board, action), -math.inf, math.inf)\n",
        "            if score > best_score:\n",
        "                best_score = score\n",
        "                best_action = action\n",
        "        return best_action\n",
        "    else:\n",
        "        best_score = math.inf\n",
        "        best_action = None\n",
        "        for action in actions(board):\n",
        "            score = max_value(result(board, action), -math.inf, math.inf)\n",
        "            if score < best_score:\n",
        "                best_score = score\n",
        "                best_action = action\n",
        "        return best_action"
      ],
      "metadata": {
        "id": "8MKTZGBSQOLl"
      },
      "execution_count": 108,
      "outputs": []
    },
    {
      "cell_type": "code",
      "source": [
        "def printboard(board):\n",
        "    print(\"  1   2   3\")\n",
        "    for i, row in enumerate(board):\n",
        "        print(\"  --- --- ---\")\n",
        "        print(i + 1, end=\"|\")\n",
        "        for j, cell in enumerate(row):\n",
        "            if cell is None:\n",
        "                print(\"   |\", end=\"\")\n",
        "            else:\n",
        "                print(f\" {cell} |\", end=\"\")\n",
        "        print()\n",
        "    print(\"  --- --- ---\")"
      ],
      "metadata": {
        "id": "DGDrJXhHQUtN"
      },
      "execution_count": 109,
      "outputs": []
    },
    {
      "cell_type": "code",
      "source": [
        "def main():\n",
        "    board = initial_state()\n",
        "    while not terminal(board):\n",
        "        current_player = player(board)\n",
        "        printboard(board)\n",
        "        print(\"Current player:\", current_player)\n",
        "\n",
        "        if current_player == X:\n",
        "            move = get_player_move(board)\n",
        "        else:\n",
        "            move = alpha_beta_search(board)\n",
        "            print(\"Optimal move:\", move)\n",
        "        board = result(board, move)\n",
        "\n",
        "    print(\"Game Over!\")\n",
        "    printboard(board)\n",
        "    win = winner(board)\n",
        "    if win:\n",
        "        print(\"Player\", win ,\"wins!\")\n",
        "    else:\n",
        "        print(\"It's a draw!\")"
      ],
      "metadata": {
        "id": "7js70XWBEXdl"
      },
      "execution_count": 114,
      "outputs": []
    },
    {
      "cell_type": "code",
      "source": [
        "if __name__ == \"__main__\":\n",
        "    main()"
      ],
      "metadata": {
        "colab": {
          "base_uri": "https://localhost:8080/"
        },
        "id": "zxpO8lqyEw50",
        "outputId": "4947576b-24e7-4e45-9838-367f88d1bd95"
      },
      "execution_count": 115,
      "outputs": [
        {
          "output_type": "stream",
          "name": "stdout",
          "text": [
            "  1   2   3\n",
            "  --- --- ---\n",
            "1|   |   |   |\n",
            "  --- --- ---\n",
            "2|   |   |   |\n",
            "  --- --- ---\n",
            "3|   |   |   |\n",
            "  --- --- ---\n",
            "Current player: X\n",
            "Enter the Row Value (1-3): 2\n",
            "Enter the Column Value (1-3): 2\n",
            "  1   2   3\n",
            "  --- --- ---\n",
            "1|   |   |   |\n",
            "  --- --- ---\n",
            "2|   | X |   |\n",
            "  --- --- ---\n",
            "3|   |   |   |\n",
            "  --- --- ---\n",
            "Current player: O\n",
            "Optimal move: (0, 0)\n",
            "  1   2   3\n",
            "  --- --- ---\n",
            "1| O |   |   |\n",
            "  --- --- ---\n",
            "2|   | X |   |\n",
            "  --- --- ---\n",
            "3|   |   |   |\n",
            "  --- --- ---\n",
            "Current player: X\n",
            "Enter the Row Value (1-3): 1\n",
            "Enter the Column Value (1-3): 3\n",
            "  1   2   3\n",
            "  --- --- ---\n",
            "1| O |   | X |\n",
            "  --- --- ---\n",
            "2|   | X |   |\n",
            "  --- --- ---\n",
            "3|   |   |   |\n",
            "  --- --- ---\n",
            "Current player: O\n",
            "Optimal move: (2, 0)\n",
            "  1   2   3\n",
            "  --- --- ---\n",
            "1| O |   | X |\n",
            "  --- --- ---\n",
            "2|   | X |   |\n",
            "  --- --- ---\n",
            "3| O |   |   |\n",
            "  --- --- ---\n",
            "Current player: X\n",
            "Enter the Row Value (1-3): 3\n",
            "Enter the Column Value (1-3): 3\n",
            "  1   2   3\n",
            "  --- --- ---\n",
            "1| O |   | X |\n",
            "  --- --- ---\n",
            "2|   | X |   |\n",
            "  --- --- ---\n",
            "3| O |   | X |\n",
            "  --- --- ---\n",
            "Current player: O\n",
            "Optimal move: (1, 0)\n",
            "Game Over!\n",
            "  1   2   3\n",
            "  --- --- ---\n",
            "1| O |   | X |\n",
            "  --- --- ---\n",
            "2| O | X |   |\n",
            "  --- --- ---\n",
            "3| O |   | X |\n",
            "  --- --- ---\n",
            "Player O wins!\n"
          ]
        }
      ]
    },
    {
      "cell_type": "code",
      "source": [],
      "metadata": {
        "id": "YzViuDdnQnuF"
      },
      "execution_count": null,
      "outputs": []
    }
  ]
}